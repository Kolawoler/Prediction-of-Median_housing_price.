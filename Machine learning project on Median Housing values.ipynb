{
 "cells": [
  {
   "cell_type": "code",
   "execution_count": 1,
   "id": "e3fbe3ac",
   "metadata": {},
   "outputs": [],
   "source": [
    "import pandas as pd\n",
    "import numpy as np\n",
    "import matplotlib.pyplot as plt\n",
    "import seaborn as sb"
   ]
  },
  {
   "cell_type": "code",
   "execution_count": 2,
   "id": "069ede9b",
   "metadata": {},
   "outputs": [],
   "source": [
    "df = pd.read_csv(r\"C:\\Users\\Rotimi\\Downloads\\archive\\housing.csv\")\n",
    "# Aim is to get an accuurate prediction of median housing_value"
   ]
  },
  {
   "cell_type": "code",
   "execution_count": 3,
   "id": "0758d23c",
   "metadata": {},
   "outputs": [
    {
     "data": {
      "text/html": [
       "<div>\n",
       "<style scoped>\n",
       "    .dataframe tbody tr th:only-of-type {\n",
       "        vertical-align: middle;\n",
       "    }\n",
       "\n",
       "    .dataframe tbody tr th {\n",
       "        vertical-align: top;\n",
       "    }\n",
       "\n",
       "    .dataframe thead th {\n",
       "        text-align: right;\n",
       "    }\n",
       "</style>\n",
       "<table border=\"1\" class=\"dataframe\">\n",
       "  <thead>\n",
       "    <tr style=\"text-align: right;\">\n",
       "      <th></th>\n",
       "      <th>longitude</th>\n",
       "      <th>latitude</th>\n",
       "      <th>housing_median_age</th>\n",
       "      <th>total_rooms</th>\n",
       "      <th>total_bedrooms</th>\n",
       "      <th>population</th>\n",
       "      <th>households</th>\n",
       "      <th>median_income</th>\n",
       "      <th>median_house_value</th>\n",
       "      <th>ocean_proximity</th>\n",
       "    </tr>\n",
       "  </thead>\n",
       "  <tbody>\n",
       "    <tr>\n",
       "      <th>0</th>\n",
       "      <td>-122.23</td>\n",
       "      <td>37.88</td>\n",
       "      <td>41.0</td>\n",
       "      <td>880.0</td>\n",
       "      <td>129.0</td>\n",
       "      <td>322.0</td>\n",
       "      <td>126.0</td>\n",
       "      <td>8.3252</td>\n",
       "      <td>452600.0</td>\n",
       "      <td>NEAR BAY</td>\n",
       "    </tr>\n",
       "    <tr>\n",
       "      <th>1</th>\n",
       "      <td>-122.22</td>\n",
       "      <td>37.86</td>\n",
       "      <td>21.0</td>\n",
       "      <td>7099.0</td>\n",
       "      <td>1106.0</td>\n",
       "      <td>2401.0</td>\n",
       "      <td>1138.0</td>\n",
       "      <td>8.3014</td>\n",
       "      <td>358500.0</td>\n",
       "      <td>NEAR BAY</td>\n",
       "    </tr>\n",
       "    <tr>\n",
       "      <th>2</th>\n",
       "      <td>-122.24</td>\n",
       "      <td>37.85</td>\n",
       "      <td>52.0</td>\n",
       "      <td>1467.0</td>\n",
       "      <td>190.0</td>\n",
       "      <td>496.0</td>\n",
       "      <td>177.0</td>\n",
       "      <td>7.2574</td>\n",
       "      <td>352100.0</td>\n",
       "      <td>NEAR BAY</td>\n",
       "    </tr>\n",
       "    <tr>\n",
       "      <th>3</th>\n",
       "      <td>-122.25</td>\n",
       "      <td>37.85</td>\n",
       "      <td>52.0</td>\n",
       "      <td>1274.0</td>\n",
       "      <td>235.0</td>\n",
       "      <td>558.0</td>\n",
       "      <td>219.0</td>\n",
       "      <td>5.6431</td>\n",
       "      <td>341300.0</td>\n",
       "      <td>NEAR BAY</td>\n",
       "    </tr>\n",
       "    <tr>\n",
       "      <th>4</th>\n",
       "      <td>-122.25</td>\n",
       "      <td>37.85</td>\n",
       "      <td>52.0</td>\n",
       "      <td>1627.0</td>\n",
       "      <td>280.0</td>\n",
       "      <td>565.0</td>\n",
       "      <td>259.0</td>\n",
       "      <td>3.8462</td>\n",
       "      <td>342200.0</td>\n",
       "      <td>NEAR BAY</td>\n",
       "    </tr>\n",
       "  </tbody>\n",
       "</table>\n",
       "</div>"
      ],
      "text/plain": [
       "   longitude  latitude  housing_median_age  total_rooms  total_bedrooms  \\\n",
       "0    -122.23     37.88                41.0        880.0           129.0   \n",
       "1    -122.22     37.86                21.0       7099.0          1106.0   \n",
       "2    -122.24     37.85                52.0       1467.0           190.0   \n",
       "3    -122.25     37.85                52.0       1274.0           235.0   \n",
       "4    -122.25     37.85                52.0       1627.0           280.0   \n",
       "\n",
       "   population  households  median_income  median_house_value ocean_proximity  \n",
       "0       322.0       126.0         8.3252            452600.0        NEAR BAY  \n",
       "1      2401.0      1138.0         8.3014            358500.0        NEAR BAY  \n",
       "2       496.0       177.0         7.2574            352100.0        NEAR BAY  \n",
       "3       558.0       219.0         5.6431            341300.0        NEAR BAY  \n",
       "4       565.0       259.0         3.8462            342200.0        NEAR BAY  "
      ]
     },
     "execution_count": 3,
     "metadata": {},
     "output_type": "execute_result"
    }
   ],
   "source": [
    "df.head()"
   ]
  },
  {
   "cell_type": "code",
   "execution_count": 4,
   "id": "d943e57c",
   "metadata": {},
   "outputs": [
    {
     "data": {
      "text/plain": [
       "<AxesSubplot:xlabel='median_house_value', ylabel='Density'>"
      ]
     },
     "execution_count": 4,
     "metadata": {},
     "output_type": "execute_result"
    },
    {
     "data": {
      "image/png": "[encoded data removed]",
      "text/plain": [
       "<Figure size 432x288 with 1 Axes>"
      ]
     },
     "metadata": {
      "needs_background": "light"
     },
     "output_type": "display_data"
    }
   ],
   "source": [
    "# lets check the distribution of median_house_value\n",
    "sb.kdeplot(df[\"median_house_value\"])# most of the median_housing_values falls within 190 to 200k dollars"
   ]
  },
  {
   "cell_type": "code",
   "execution_count": 5,
   "id": "5f3998d0",
   "metadata": {},
   "outputs": [],
   "source": [
    "# checking the values of the predictor, we can see that predictor contains continous values , we can partition our bins in such a way that values that falls within the same range clogs  together, this\n",
    "# will help our model learn better\n",
    "\n",
    "#df[\"median_house_value\"].value_counts()\n",
    "\n",
    "df[\"concat_median\"] = pd.cut(df[\"median_house_value\"], bins = 4, labels = [0,1,2,3] )\n"
   ]
  },
  {
   "cell_type": "code",
   "execution_count": 6,
   "id": "660032bc",
   "metadata": {},
   "outputs": [
    {
     "data": {
      "text/plain": [
       "0        3\n",
       "1        2\n",
       "2        2\n",
       "3        2\n",
       "4        2\n",
       "        ..\n",
       "20635    0\n",
       "20636    0\n",
       "20637    0\n",
       "20638    0\n",
       "20639    0\n",
       "Name: concat_median, Length: 20640, dtype: category\n",
       "Categories (4, int64): [0 < 1 < 2 < 3]"
      ]
     },
     "execution_count": 6,
     "metadata": {},
     "output_type": "execute_result"
    }
   ],
   "source": [
    "df[\"concat_median\"]"
   ]
  },
  {
   "cell_type": "code",
   "execution_count": 7,
   "id": "ebf1fe53",
   "metadata": {},
   "outputs": [],
   "source": [
    "from sklearn.model_selection import StratifiedShuffleSplit # Splitting data into training and testing before anything"
   ]
  },
  {
   "cell_type": "code",
   "execution_count": 8,
   "id": "fd8bf89a",
   "metadata": {},
   "outputs": [],
   "source": [
    "stratified_ = StratifiedShuffleSplit(n_splits= 10 , random_state= False ,test_size = .2 )\n",
    "for train_, test_ in stratified_.split(df, df[\"concat_median\"]):\n",
    "    train_df = df.loc[train_]\n",
    "    test_df  = df.loc[test_]\n"
   ]
  },
  {
   "cell_type": "code",
   "execution_count": 9,
   "id": "e2696d87",
   "metadata": {},
   "outputs": [
    {
     "data": {
      "text/html": [
       "<div>\n",
       "<style scoped>\n",
       "    .dataframe tbody tr th:only-of-type {\n",
       "        vertical-align: middle;\n",
       "    }\n",
       "\n",
       "    .dataframe tbody tr th {\n",
       "        vertical-align: top;\n",
       "    }\n",
       "\n",
       "    .dataframe thead th {\n",
       "        text-align: right;\n",
       "    }\n",
       "</style>\n",
       "<table border=\"1\" class=\"dataframe\">\n",
       "  <thead>\n",
       "    <tr style=\"text-align: right;\">\n",
       "      <th></th>\n",
       "      <th>longitude</th>\n",
       "      <th>latitude</th>\n",
       "      <th>housing_median_age</th>\n",
       "      <th>total_rooms</th>\n",
       "      <th>total_bedrooms</th>\n",
       "      <th>population</th>\n",
       "      <th>households</th>\n",
       "      <th>median_income</th>\n",
       "      <th>median_house_value</th>\n",
       "      <th>ocean_proximity</th>\n",
       "      <th>concat_median</th>\n",
       "    </tr>\n",
       "  </thead>\n",
       "  <tbody>\n",
       "    <tr>\n",
       "      <th>2854</th>\n",
       "      <td>-118.95</td>\n",
       "      <td>35.38</td>\n",
       "      <td>30.0</td>\n",
       "      <td>2594.0</td>\n",
       "      <td>478.0</td>\n",
       "      <td>1419.0</td>\n",
       "      <td>480.0</td>\n",
       "      <td>3.7250</td>\n",
       "      <td>83100.0</td>\n",
       "      <td>INLAND</td>\n",
       "      <td>0</td>\n",
       "    </tr>\n",
       "    <tr>\n",
       "      <th>8850</th>\n",
       "      <td>-118.41</td>\n",
       "      <td>34.09</td>\n",
       "      <td>37.0</td>\n",
       "      <td>2716.0</td>\n",
       "      <td>302.0</td>\n",
       "      <td>809.0</td>\n",
       "      <td>291.0</td>\n",
       "      <td>15.0001</td>\n",
       "      <td>500001.0</td>\n",
       "      <td>&lt;1H OCEAN</td>\n",
       "      <td>3</td>\n",
       "    </tr>\n",
       "    <tr>\n",
       "      <th>15537</th>\n",
       "      <td>-117.11</td>\n",
       "      <td>33.12</td>\n",
       "      <td>46.0</td>\n",
       "      <td>52.0</td>\n",
       "      <td>13.0</td>\n",
       "      <td>59.0</td>\n",
       "      <td>13.0</td>\n",
       "      <td>3.8750</td>\n",
       "      <td>200000.0</td>\n",
       "      <td>&lt;1H OCEAN</td>\n",
       "      <td>1</td>\n",
       "    </tr>\n",
       "    <tr>\n",
       "      <th>2656</th>\n",
       "      <td>-124.25</td>\n",
       "      <td>40.28</td>\n",
       "      <td>32.0</td>\n",
       "      <td>1430.0</td>\n",
       "      <td>419.0</td>\n",
       "      <td>434.0</td>\n",
       "      <td>187.0</td>\n",
       "      <td>1.9417</td>\n",
       "      <td>76100.0</td>\n",
       "      <td>NEAR OCEAN</td>\n",
       "      <td>0</td>\n",
       "    </tr>\n",
       "    <tr>\n",
       "      <th>13209</th>\n",
       "      <td>-117.72</td>\n",
       "      <td>34.05</td>\n",
       "      <td>8.0</td>\n",
       "      <td>1841.0</td>\n",
       "      <td>409.0</td>\n",
       "      <td>1243.0</td>\n",
       "      <td>394.0</td>\n",
       "      <td>4.0614</td>\n",
       "      <td>107000.0</td>\n",
       "      <td>INLAND</td>\n",
       "      <td>0</td>\n",
       "    </tr>\n",
       "  </tbody>\n",
       "</table>\n",
       "</div>"
      ],
      "text/plain": [
       "       longitude  latitude  housing_median_age  total_rooms  total_bedrooms  \\\n",
       "2854     -118.95     35.38                30.0       2594.0           478.0   \n",
       "8850     -118.41     34.09                37.0       2716.0           302.0   \n",
       "15537    -117.11     33.12                46.0         52.0            13.0   \n",
       "2656     -124.25     40.28                32.0       1430.0           419.0   \n",
       "13209    -117.72     34.05                 8.0       1841.0           409.0   \n",
       "\n",
       "       population  households  median_income  median_house_value  \\\n",
       "2854       1419.0       480.0         3.7250             83100.0   \n",
       "8850        809.0       291.0        15.0001            500001.0   \n",
       "15537        59.0        13.0         3.8750            200000.0   \n",
       "2656        434.0       187.0         1.9417             76100.0   \n",
       "13209      1243.0       394.0         4.0614            107000.0   \n",
       "\n",
       "      ocean_proximity concat_median  \n",
       "2854           INLAND             0  \n",
       "8850        <1H OCEAN             3  \n",
       "15537       <1H OCEAN             1  \n",
       "2656       NEAR OCEAN             0  \n",
       "13209          INLAND             0  "
      ]
     },
     "execution_count": 9,
     "metadata": {},
     "output_type": "execute_result"
    }
   ],
   "source": [
    "train_df.head()# so this is my training data , I need to remove some columns from train_df, like categorical columns in my dataset\n",
    "# i also need to remove the predictor from the columns"
   ]
  },
  {
   "cell_type": "code",
   "execution_count": 10,
   "id": "931e4225",
   "metadata": {},
   "outputs": [],
   "source": [
    "train_label = train_df[\"median_house_value\"]\n",
    "train_df.drop(\"median_house_value\", axis = 1, inplace  = True)"
   ]
  },
  {
   "cell_type": "code",
   "execution_count": 11,
   "id": "3fd95cf1",
   "metadata": {},
   "outputs": [],
   "source": [
    "train_df_d = train_df.copy()\n",
    "# since the ocen proximity is a categorical column\n",
    "# we can store the series to another series name\n",
    "cat_col = train_df_d[[\"ocean_proximity\"]]"
   ]
  },
  {
   "cell_type": "code",
   "execution_count": 12,
   "id": "bd102cdb",
   "metadata": {},
   "outputs": [],
   "source": [
    "train_df_d.drop((\"ocean_proximity\"),inplace = True, axis = 1)\n",
    "# to drop all the categorical columns that is not needed and the predictor"
   ]
  },
  {
   "cell_type": "code",
   "execution_count": 13,
   "id": "be3ab58d",
   "metadata": {},
   "outputs": [
    {
     "data": {
      "text/html": [
       "<div>\n",
       "<style scoped>\n",
       "    .dataframe tbody tr th:only-of-type {\n",
       "        vertical-align: middle;\n",
       "    }\n",
       "\n",
       "    .dataframe tbody tr th {\n",
       "        vertical-align: top;\n",
       "    }\n",
       "\n",
       "    .dataframe thead th {\n",
       "        text-align: right;\n",
       "    }\n",
       "</style>\n",
       "<table border=\"1\" class=\"dataframe\">\n",
       "  <thead>\n",
       "    <tr style=\"text-align: right;\">\n",
       "      <th></th>\n",
       "      <th>longitude</th>\n",
       "      <th>latitude</th>\n",
       "      <th>housing_median_age</th>\n",
       "      <th>total_rooms</th>\n",
       "      <th>total_bedrooms</th>\n",
       "      <th>population</th>\n",
       "      <th>households</th>\n",
       "      <th>median_income</th>\n",
       "      <th>concat_median</th>\n",
       "    </tr>\n",
       "  </thead>\n",
       "  <tbody>\n",
       "    <tr>\n",
       "      <th>2854</th>\n",
       "      <td>-118.95</td>\n",
       "      <td>35.38</td>\n",
       "      <td>30.0</td>\n",
       "      <td>2594.0</td>\n",
       "      <td>478.0</td>\n",
       "      <td>1419.0</td>\n",
       "      <td>480.0</td>\n",
       "      <td>3.7250</td>\n",
       "      <td>0</td>\n",
       "    </tr>\n",
       "    <tr>\n",
       "      <th>8850</th>\n",
       "      <td>-118.41</td>\n",
       "      <td>34.09</td>\n",
       "      <td>37.0</td>\n",
       "      <td>2716.0</td>\n",
       "      <td>302.0</td>\n",
       "      <td>809.0</td>\n",
       "      <td>291.0</td>\n",
       "      <td>15.0001</td>\n",
       "      <td>3</td>\n",
       "    </tr>\n",
       "    <tr>\n",
       "      <th>15537</th>\n",
       "      <td>-117.11</td>\n",
       "      <td>33.12</td>\n",
       "      <td>46.0</td>\n",
       "      <td>52.0</td>\n",
       "      <td>13.0</td>\n",
       "      <td>59.0</td>\n",
       "      <td>13.0</td>\n",
       "      <td>3.8750</td>\n",
       "      <td>1</td>\n",
       "    </tr>\n",
       "    <tr>\n",
       "      <th>2656</th>\n",
       "      <td>-124.25</td>\n",
       "      <td>40.28</td>\n",
       "      <td>32.0</td>\n",
       "      <td>1430.0</td>\n",
       "      <td>419.0</td>\n",
       "      <td>434.0</td>\n",
       "      <td>187.0</td>\n",
       "      <td>1.9417</td>\n",
       "      <td>0</td>\n",
       "    </tr>\n",
       "    <tr>\n",
       "      <th>13209</th>\n",
       "      <td>-117.72</td>\n",
       "      <td>34.05</td>\n",
       "      <td>8.0</td>\n",
       "      <td>1841.0</td>\n",
       "      <td>409.0</td>\n",
       "      <td>1243.0</td>\n",
       "      <td>394.0</td>\n",
       "      <td>4.0614</td>\n",
       "      <td>0</td>\n",
       "    </tr>\n",
       "  </tbody>\n",
       "</table>\n",
       "</div>"
      ],
      "text/plain": [
       "       longitude  latitude  housing_median_age  total_rooms  total_bedrooms  \\\n",
       "2854     -118.95     35.38                30.0       2594.0           478.0   \n",
       "8850     -118.41     34.09                37.0       2716.0           302.0   \n",
       "15537    -117.11     33.12                46.0         52.0            13.0   \n",
       "2656     -124.25     40.28                32.0       1430.0           419.0   \n",
       "13209    -117.72     34.05                 8.0       1841.0           409.0   \n",
       "\n",
       "       population  households  median_income concat_median  \n",
       "2854       1419.0       480.0         3.7250             0  \n",
       "8850        809.0       291.0        15.0001             3  \n",
       "15537        59.0        13.0         3.8750             1  \n",
       "2656        434.0       187.0         1.9417             0  \n",
       "13209      1243.0       394.0         4.0614             0  "
      ]
     },
     "execution_count": 13,
     "metadata": {},
     "output_type": "execute_result"
    }
   ],
   "source": [
    "train_df_d.head()"
   ]
  },
  {
   "cell_type": "code",
   "execution_count": 14,
   "id": "28d28b5a",
   "metadata": {},
   "outputs": [],
   "source": [
    "from sklearn.base import BaseEstimator, TransformerMixin"
   ]
  },
  {
   "cell_type": "code",
   "execution_count": 15,
   "id": "002d03c7",
   "metadata": {},
   "outputs": [],
   "source": [
    "class ColumnerTransformer(BaseEstimator,TransformerMixin):\n",
    "    \n",
    "    \n",
    "    \n",
    "    \"\"\"trying to define a column transformer that will help design the way our data will be estracted\n",
    "    \"\"\"\n",
    "    \n",
    "    def __init__(self, data):\n",
    "        \n",
    "        \"declaring the variables needed in our transformer\"\n",
    "        self.data = data\n",
    "        \n",
    "    def fit(self,x, y = None):\n",
    "        \"fit method is needed to compute the best estimate of function for numerical values\"\n",
    "        \n",
    "        return self\n",
    "    \n",
    "    def transform(self,X):\n",
    "        \n",
    "        \"\"\"here , is where you design how we want our data to look like, this means our data would go throigh\n",
    "            \"\"our data would go through a transformed process and would return to us in a desired way or based on how it is needed\"\"\"\n",
    "        if not isinstance(X, pd.DataFrame):\n",
    "            X = pd.DataFrame(X)\n",
    "        return X"
   ]
  },
  {
   "cell_type": "code",
   "execution_count": 16,
   "id": "a6d99ac6",
   "metadata": {},
   "outputs": [],
   "source": [
    "Column_trans = ColumnerTransformer(df)"
   ]
  },
  {
   "cell_type": "code",
   "execution_count": 17,
   "id": "6fb48b29",
   "metadata": {},
   "outputs": [
    {
     "data": {
      "text/html": [
       "<div>\n",
       "<style scoped>\n",
       "    .dataframe tbody tr th:only-of-type {\n",
       "        vertical-align: middle;\n",
       "    }\n",
       "\n",
       "    .dataframe tbody tr th {\n",
       "        vertical-align: top;\n",
       "    }\n",
       "\n",
       "    .dataframe thead th {\n",
       "        text-align: right;\n",
       "    }\n",
       "</style>\n",
       "<table border=\"1\" class=\"dataframe\">\n",
       "  <thead>\n",
       "    <tr style=\"text-align: right;\">\n",
       "      <th></th>\n",
       "      <th>longitude</th>\n",
       "      <th>latitude</th>\n",
       "      <th>housing_median_age</th>\n",
       "      <th>total_rooms</th>\n",
       "      <th>total_bedrooms</th>\n",
       "      <th>population</th>\n",
       "      <th>households</th>\n",
       "      <th>median_income</th>\n",
       "      <th>median_house_value</th>\n",
       "      <th>ocean_proximity</th>\n",
       "      <th>concat_median</th>\n",
       "    </tr>\n",
       "  </thead>\n",
       "  <tbody>\n",
       "    <tr>\n",
       "      <th>6846</th>\n",
       "      <td>-118.11</td>\n",
       "      <td>34.06</td>\n",
       "      <td>18.0</td>\n",
       "      <td>2609.0</td>\n",
       "      <td>721.0</td>\n",
       "      <td>2221.0</td>\n",
       "      <td>703.0</td>\n",
       "      <td>2.3224</td>\n",
       "      <td>192300.0</td>\n",
       "      <td>&lt;1H OCEAN</td>\n",
       "      <td>1</td>\n",
       "    </tr>\n",
       "    <tr>\n",
       "      <th>9445</th>\n",
       "      <td>-119.90</td>\n",
       "      <td>37.49</td>\n",
       "      <td>13.0</td>\n",
       "      <td>2230.0</td>\n",
       "      <td>443.0</td>\n",
       "      <td>920.0</td>\n",
       "      <td>361.0</td>\n",
       "      <td>3.0000</td>\n",
       "      <td>112000.0</td>\n",
       "      <td>INLAND</td>\n",
       "      <td>0</td>\n",
       "    </tr>\n",
       "    <tr>\n",
       "      <th>12719</th>\n",
       "      <td>-121.38</td>\n",
       "      <td>38.61</td>\n",
       "      <td>34.0</td>\n",
       "      <td>2888.0</td>\n",
       "      <td>496.0</td>\n",
       "      <td>1168.0</td>\n",
       "      <td>479.0</td>\n",
       "      <td>3.6053</td>\n",
       "      <td>148600.0</td>\n",
       "      <td>INLAND</td>\n",
       "      <td>1</td>\n",
       "    </tr>\n",
       "    <tr>\n",
       "      <th>6419</th>\n",
       "      <td>-118.01</td>\n",
       "      <td>34.15</td>\n",
       "      <td>32.0</td>\n",
       "      <td>6597.0</td>\n",
       "      <td>1579.0</td>\n",
       "      <td>3689.0</td>\n",
       "      <td>1459.0</td>\n",
       "      <td>3.2377</td>\n",
       "      <td>184100.0</td>\n",
       "      <td>INLAND</td>\n",
       "      <td>1</td>\n",
       "    </tr>\n",
       "    <tr>\n",
       "      <th>7179</th>\n",
       "      <td>-118.18</td>\n",
       "      <td>34.04</td>\n",
       "      <td>36.0</td>\n",
       "      <td>1807.0</td>\n",
       "      <td>630.0</td>\n",
       "      <td>2118.0</td>\n",
       "      <td>669.0</td>\n",
       "      <td>1.5500</td>\n",
       "      <td>129000.0</td>\n",
       "      <td>&lt;1H OCEAN</td>\n",
       "      <td>0</td>\n",
       "    </tr>\n",
       "    <tr>\n",
       "      <th>...</th>\n",
       "      <td>...</td>\n",
       "      <td>...</td>\n",
       "      <td>...</td>\n",
       "      <td>...</td>\n",
       "      <td>...</td>\n",
       "      <td>...</td>\n",
       "      <td>...</td>\n",
       "      <td>...</td>\n",
       "      <td>...</td>\n",
       "      <td>...</td>\n",
       "      <td>...</td>\n",
       "    </tr>\n",
       "    <tr>\n",
       "      <th>4587</th>\n",
       "      <td>-118.27</td>\n",
       "      <td>34.05</td>\n",
       "      <td>37.0</td>\n",
       "      <td>350.0</td>\n",
       "      <td>245.0</td>\n",
       "      <td>1122.0</td>\n",
       "      <td>248.0</td>\n",
       "      <td>2.7634</td>\n",
       "      <td>137500.0</td>\n",
       "      <td>&lt;1H OCEAN</td>\n",
       "      <td>1</td>\n",
       "    </tr>\n",
       "    <tr>\n",
       "      <th>8254</th>\n",
       "      <td>-118.17</td>\n",
       "      <td>33.77</td>\n",
       "      <td>45.0</td>\n",
       "      <td>2508.0</td>\n",
       "      <td>797.0</td>\n",
       "      <td>1340.0</td>\n",
       "      <td>720.0</td>\n",
       "      <td>2.6786</td>\n",
       "      <td>191100.0</td>\n",
       "      <td>NEAR OCEAN</td>\n",
       "      <td>1</td>\n",
       "    </tr>\n",
       "    <tr>\n",
       "      <th>14563</th>\n",
       "      <td>-117.22</td>\n",
       "      <td>32.82</td>\n",
       "      <td>35.0</td>\n",
       "      <td>756.0</td>\n",
       "      <td>135.0</td>\n",
       "      <td>423.0</td>\n",
       "      <td>136.0</td>\n",
       "      <td>3.5234</td>\n",
       "      <td>183900.0</td>\n",
       "      <td>NEAR OCEAN</td>\n",
       "      <td>1</td>\n",
       "    </tr>\n",
       "    <tr>\n",
       "      <th>1277</th>\n",
       "      <td>-121.60</td>\n",
       "      <td>37.90</td>\n",
       "      <td>5.0</td>\n",
       "      <td>14684.0</td>\n",
       "      <td>2252.0</td>\n",
       "      <td>4276.0</td>\n",
       "      <td>1722.0</td>\n",
       "      <td>6.9051</td>\n",
       "      <td>340900.0</td>\n",
       "      <td>INLAND</td>\n",
       "      <td>2</td>\n",
       "    </tr>\n",
       "    <tr>\n",
       "      <th>13498</th>\n",
       "      <td>-117.32</td>\n",
       "      <td>34.14</td>\n",
       "      <td>32.0</td>\n",
       "      <td>1691.0</td>\n",
       "      <td>353.0</td>\n",
       "      <td>1457.0</td>\n",
       "      <td>329.0</td>\n",
       "      <td>1.8438</td>\n",
       "      <td>66600.0</td>\n",
       "      <td>INLAND</td>\n",
       "      <td>0</td>\n",
       "    </tr>\n",
       "  </tbody>\n",
       "</table>\n",
       "<p>2000 rows × 11 columns</p>\n",
       "</div>"
      ],
      "text/plain": [
       "       longitude  latitude  housing_median_age  total_rooms  total_bedrooms  \\\n",
       "6846     -118.11     34.06                18.0       2609.0           721.0   \n",
       "9445     -119.90     37.49                13.0       2230.0           443.0   \n",
       "12719    -121.38     38.61                34.0       2888.0           496.0   \n",
       "6419     -118.01     34.15                32.0       6597.0          1579.0   \n",
       "7179     -118.18     34.04                36.0       1807.0           630.0   \n",
       "...          ...       ...                 ...          ...             ...   \n",
       "4587     -118.27     34.05                37.0        350.0           245.0   \n",
       "8254     -118.17     33.77                45.0       2508.0           797.0   \n",
       "14563    -117.22     32.82                35.0        756.0           135.0   \n",
       "1277     -121.60     37.90                 5.0      14684.0          2252.0   \n",
       "13498    -117.32     34.14                32.0       1691.0           353.0   \n",
       "\n",
       "       population  households  median_income  median_house_value  \\\n",
       "6846       2221.0       703.0         2.3224            192300.0   \n",
       "9445        920.0       361.0         3.0000            112000.0   \n",
       "12719      1168.0       479.0         3.6053            148600.0   \n",
       "6419       3689.0      1459.0         3.2377            184100.0   \n",
       "7179       2118.0       669.0         1.5500            129000.0   \n",
       "...           ...         ...            ...                 ...   \n",
       "4587       1122.0       248.0         2.7634            137500.0   \n",
       "8254       1340.0       720.0         2.6786            191100.0   \n",
       "14563       423.0       136.0         3.5234            183900.0   \n",
       "1277       4276.0      1722.0         6.9051            340900.0   \n",
       "13498      1457.0       329.0         1.8438             66600.0   \n",
       "\n",
       "      ocean_proximity concat_median  \n",
       "6846        <1H OCEAN             1  \n",
       "9445           INLAND             0  \n",
       "12719          INLAND             1  \n",
       "6419           INLAND             1  \n",
       "7179        <1H OCEAN             0  \n",
       "...               ...           ...  \n",
       "4587        <1H OCEAN             1  \n",
       "8254       NEAR OCEAN             1  \n",
       "14563      NEAR OCEAN             1  \n",
       "1277           INLAND             2  \n",
       "13498          INLAND             0  \n",
       "\n",
       "[2000 rows x 11 columns]"
      ]
     },
     "execution_count": 17,
     "metadata": {},
     "output_type": "execute_result"
    }
   ],
   "source": [
    "Column_trans.transform(df.loc[np.random.choice(df.shape[0],2000)])\n"
   ]
  },
  {
   "cell_type": "code",
   "execution_count": 18,
   "id": "32d42bcf",
   "metadata": {},
   "outputs": [],
   "source": [
    "#columtran_sample.transformer(sample_train)"
   ]
  },
  {
   "cell_type": "code",
   "execution_count": 19,
   "id": "a0abf53a",
   "metadata": {},
   "outputs": [],
   "source": [
    "# next we import a transformer  that will help us deal with missing values"
   ]
  },
  {
   "cell_type": "code",
   "execution_count": 20,
   "id": "1a6cb994",
   "metadata": {},
   "outputs": [],
   "source": [
    "\n",
    "from sklearn.impute import SimpleImputer"
   ]
  },
  {
   "cell_type": "code",
   "execution_count": 21,
   "id": "ad1c184b",
   "metadata": {},
   "outputs": [],
   "source": [
    "Simputte = SimpleImputer(strategy=\"median\")"
   ]
  },
  {
   "cell_type": "code",
   "execution_count": 22,
   "id": "da1f9feb",
   "metadata": {},
   "outputs": [],
   "source": [
    "# we import a transformer that will help us standardize our scales"
   ]
  },
  {
   "cell_type": "code",
   "execution_count": 23,
   "id": "3a4ea67b",
   "metadata": {},
   "outputs": [],
   "source": [
    "from sklearn.preprocessing import StandardScaler\n",
    "# # rememember we are applying fit and transform on all our numerical columns to  help us compute the estimates of the mean and applying it thereafter\n",
    "# the standardscaler will help us standardize our scales ie. we probably have diferent different scales in all the column"
   ]
  },
  {
   "cell_type": "code",
   "execution_count": 24,
   "id": "20915232",
   "metadata": {},
   "outputs": [
    {
     "data": {
      "text/plain": [
       "array([[ 3.08147387e-01, -1.15342664e-01,  1.10353134e-01, ...,\n",
       "        -4.98937030e-02, -7.82497346e-02, -1.13363200e+00],\n",
       "       [ 5.78279830e-01, -7.20834086e-01,  6.67731944e-01, ...,\n",
       "        -5.42899999e-01,  5.86601558e+00,  2.08814624e+00],\n",
       "       [ 1.22859867e+00, -1.17612609e+00,  1.38436184e+00, ...,\n",
       "        -1.26806270e+00,  8.30698959e-04, -5.97059195e-02],\n",
       "       ...,\n",
       "       [-1.46272085e+00,  9.87684346e-01,  1.54361293e+00, ...,\n",
       "        -7.82881900e-01,  1.26042385e+00,  2.08814624e+00],\n",
       "       [ 7.93385293e-01, -7.34915282e-01,  5.88106400e-01, ...,\n",
       "        -2.63790615e-01,  8.11764195e-02, -5.97059195e-02],\n",
       "       [ 6.38309261e-01, -6.87977963e-01,  1.06585966e+00, ...,\n",
       "        -1.02286380e+00,  2.47983414e-01, -5.97059195e-02]])"
      ]
     },
     "execution_count": 24,
     "metadata": {},
     "output_type": "execute_result"
    }
   ],
   "source": [
    "standard_scal = StandardScaler()\n",
    "standard_scal.fit_transform(train_df_d)"
   ]
  },
  {
   "cell_type": "code",
   "execution_count": 25,
   "id": "8ec5321e",
   "metadata": {},
   "outputs": [],
   "source": [
    "### Now we are all done with all our nemerical columns\n",
    "# lets do transform the categorical column as well\n"
   ]
  },
  {
   "cell_type": "code",
   "execution_count": 26,
   "id": "4ce457aa",
   "metadata": {},
   "outputs": [],
   "source": [
    "from sklearn.preprocessing import OneHotEncoder\n",
    "from sklearn.preprocessing import OrdinalEncoder"
   ]
  },
  {
   "cell_type": "code",
   "execution_count": 27,
   "id": "35e3fe8a",
   "metadata": {},
   "outputs": [
    {
     "data": {
      "text/plain": [
       "array([[1.],\n",
       "       [0.],\n",
       "       [0.],\n",
       "       ...,\n",
       "       [4.],\n",
       "       [0.],\n",
       "       [0.]])"
      ]
     },
     "execution_count": 27,
     "metadata": {},
     "output_type": "execute_result"
    }
   ],
   "source": [
    "O_E = OrdinalEncoder()\n",
    "O_E.fit_transform(cat_col)"
   ]
  },
  {
   "cell_type": "code",
   "execution_count": 28,
   "id": "6d033875",
   "metadata": {},
   "outputs": [],
   "source": [
    "# now we are done with all our done with how we transform our numerical and categorical columns\n",
    "# what is left now is to design pipeline that will help us hold the numerical cols from categorical cols\n",
    "from sklearn.pipeline import Pipeline"
   ]
  },
  {
   "cell_type": "code",
   "execution_count": 29,
   "id": "ed1650ed",
   "metadata": {},
   "outputs": [],
   "source": [
    "pipeline_obj = Pipeline([(\"simpleImp\", SimpleImputer(strategy = \"median\")),(\"col_trans\", Column_trans),\n",
    "          (\"Standardizer\", StandardScaler()),])\n",
    "numerical_pipe = pipeline_obj.fit_transform(train_df_d)"
   ]
  },
  {
   "cell_type": "code",
   "execution_count": 30,
   "id": "814e4e4c",
   "metadata": {},
   "outputs": [],
   "source": [
    "# we need a pipeline that will handle  numerical and categorical columns seperately"
   ]
  },
  {
   "cell_type": "code",
   "execution_count": 31,
   "id": "2421bb7f",
   "metadata": {},
   "outputs": [],
   "source": [
    "from sklearn.compose import ColumnTransformer"
   ]
  },
  {
   "cell_type": "code",
   "execution_count": 32,
   "id": "ade35c6d",
   "metadata": {},
   "outputs": [
    {
     "data": {
      "text/plain": [
       "Index(['longitude', 'latitude', 'housing_median_age', 'total_rooms',\n",
       "       'total_bedrooms', 'population', 'households', 'median_income',\n",
       "       'concat_median'],\n",
       "      dtype='object')"
      ]
     },
     "execution_count": 32,
     "metadata": {},
     "output_type": "execute_result"
    }
   ],
   "source": [
    "train_df_d.columns"
   ]
  },
  {
   "cell_type": "code",
   "execution_count": 33,
   "id": "b44773a2",
   "metadata": {},
   "outputs": [
    {
     "data": {
      "text/plain": [
       "'ocean_proximity'"
      ]
     },
     "execution_count": 33,
     "metadata": {},
     "output_type": "execute_result"
    }
   ],
   "source": [
    "df.columns[-2]"
   ]
  },
  {
   "cell_type": "code",
   "execution_count": 34,
   "id": "c31ec9ef",
   "metadata": {},
   "outputs": [],
   "source": [
    "# we need to store the numerical columns in a list  while the categorical colums will need to be stored to \n",
    "\n",
    "Numerical_cols = list(train_df_d.columns)\n",
    "Categorical_cols = [\"ocean_proximity\"]\n",
    "\n",
    "# i can use Featuree\n"
   ]
  },
  {
   "cell_type": "code",
   "execution_count": 35,
   "id": "9e4593b6",
   "metadata": {},
   "outputs": [],
   "source": [
    "Full_pipleine_obj = ColumnTransformer([(\"numerical_trans\", pipeline_obj, Numerical_cols),\n",
    "                     (\"cate_col\",OneHotEncoder(), Categorical_cols )])"
   ]
  },
  {
   "cell_type": "code",
   "execution_count": 36,
   "id": "c38e41f8",
   "metadata": {},
   "outputs": [
    {
     "data": {
      "text/plain": [
       "['longitude',\n",
       " 'latitude',\n",
       " 'housing_median_age',\n",
       " 'total_rooms',\n",
       " 'total_bedrooms',\n",
       " 'population',\n",
       " 'households',\n",
       " 'median_income',\n",
       " 'concat_median']"
      ]
     },
     "execution_count": 36,
     "metadata": {},
     "output_type": "execute_result"
    }
   ],
   "source": [
    "\n",
    "Numerical_cols"
   ]
  },
  {
   "cell_type": "code",
   "execution_count": 37,
   "id": "3f73f06e",
   "metadata": {},
   "outputs": [
    {
     "data": {
      "text/plain": [
       "(16512, 10)"
      ]
     },
     "execution_count": 37,
     "metadata": {},
     "output_type": "execute_result"
    }
   ],
   "source": [
    "train_df.shape"
   ]
  },
  {
   "cell_type": "code",
   "execution_count": 38,
   "id": "a3856a19",
   "metadata": {},
   "outputs": [
    {
     "data": {
      "text/plain": [
       "array([[ 0.30814739, -0.11534266,  0.11035313, ...,  0.        ,\n",
       "         0.        ,  0.        ],\n",
       "       [ 0.57827983, -0.72083409,  0.66773194, ...,  0.        ,\n",
       "         0.        ,  0.        ],\n",
       "       [ 1.22859867, -1.17612609,  1.38436184, ...,  0.        ,\n",
       "         0.        ,  0.        ],\n",
       "       ...,\n",
       "       [-1.46272085,  0.98768435,  1.54361293, ...,  0.        ,\n",
       "         0.        ,  1.        ],\n",
       "       [ 0.79338529, -0.73491528,  0.5881064 , ...,  0.        ,\n",
       "         0.        ,  0.        ],\n",
       "       [ 0.63830926, -0.68797796,  1.06585966, ...,  0.        ,\n",
       "         0.        ,  0.        ]])"
      ]
     },
     "execution_count": 38,
     "metadata": {},
     "output_type": "execute_result"
    }
   ],
   "source": [
    "Full_pipleine_obj.fit_transform(train_df)"
   ]
  },
  {
   "cell_type": "code",
   "execution_count": 39,
   "id": "62adf29b",
   "metadata": {},
   "outputs": [],
   "source": [
    "traind_data= Full_pipleine_obj.fit_transform(train_df)# Now we apply all the transformation on our columns\n",
    "# so that we can have a full transformation of our training data\n",
    "# next we fit our model on it and see how our data perform"
   ]
  },
  {
   "cell_type": "code",
   "execution_count": 40,
   "id": "12a4b6b9",
   "metadata": {},
   "outputs": [],
   "source": [
    "from sklearn.linear_model import LinearRegression"
   ]
  },
  {
   "cell_type": "code",
   "execution_count": 41,
   "id": "5da2fe0a",
   "metadata": {},
   "outputs": [],
   "source": [
    "Lr = LinearRegression()\n",
    "Lr_obj = LinearRegression().fit(traind_data, train_label)# here we train our model on train_set\n"
   ]
  },
  {
   "cell_type": "code",
   "execution_count": 42,
   "id": "d1bafb44",
   "metadata": {},
   "outputs": [],
   "source": [
    "test_label = test_df[\"median_house_value\"]# lets get our test data  ready for testing\n",
    "test_df.drop([\"median_house_value\"], axis =1, inplace = True)"
   ]
  },
  {
   "cell_type": "code",
   "execution_count": 43,
   "id": "c5317b3d",
   "metadata": {},
   "outputs": [],
   "source": [
    "some_test_df = test_df.iloc[:10,:]\n",
    "some_test_labels = test_label[:10]"
   ]
  },
  {
   "cell_type": "code",
   "execution_count": 44,
   "id": "2c5d0716",
   "metadata": {},
   "outputs": [],
   "source": [
    "Predict_values = Lr_obj.predict(Full_pipleine_obj.transform(some_test_df))# the prediction for the first 10 values of testing_data"
   ]
  },
  {
   "cell_type": "code",
   "execution_count": 45,
   "id": "05863c5e",
   "metadata": {},
   "outputs": [
    {
     "data": {
      "text/plain": [
       "-12847.69464189175"
      ]
     },
     "execution_count": 45,
     "metadata": {},
     "output_type": "execute_result"
    }
   ],
   "source": [
    "some_test_labels.mean() - Lr_obj.predict(Full_pipleine_obj.transform(some_test_df)).mean()# here have 12k off"
   ]
  },
  {
   "cell_type": "code",
   "execution_count": 46,
   "id": "073b323a",
   "metadata": {},
   "outputs": [
    {
     "data": {
      "text/plain": [
       "(247927.89464189176, 235080.2)"
      ]
     },
     "execution_count": 46,
     "metadata": {},
     "output_type": "execute_result"
    }
   ],
   "source": [
    "Predict_values.mean(), some_test_labels.mean()"
   ]
  },
  {
   "cell_type": "code",
   "execution_count": 47,
   "id": "03184181",
   "metadata": {},
   "outputs": [],
   "source": [
    "# lets evaluate our model using mean squared error - works for regression models\n",
    "# we have other types of evaluating model such as f1 , confussion matrix( classification model)"
   ]
  },
  {
   "cell_type": "code",
   "execution_count": 48,
   "id": "11544bbd",
   "metadata": {},
   "outputs": [],
   "source": [
    "from sklearn.metrics import mean_squared_error"
   ]
  },
  {
   "cell_type": "code",
   "execution_count": 49,
   "id": "029a7ad4",
   "metadata": {},
   "outputs": [],
   "source": [
    "train_error = np.sqrt(mean_squared_error(Predict_values, some_test_labels))# to read on mean squared error"
   ]
  },
  {
   "cell_type": "code",
   "execution_count": 50,
   "id": "149c4753",
   "metadata": {},
   "outputs": [],
   "source": [
    "from sklearn.tree import DecisionTreeRegressor"
   ]
  },
  {
   "cell_type": "code",
   "execution_count": 51,
   "id": "17747414",
   "metadata": {},
   "outputs": [],
   "source": [
    "D_r = DecisionTreeRegressor(random_state= 42)\n"
   ]
  },
  {
   "cell_type": "markdown",
   "id": "1cc9aaf7",
   "metadata": {},
   "source": [
    "##### Lets create a function that will help us fit and predict trained data "
   ]
  },
  {
   "cell_type": "code",
   "execution_count": 52,
   "id": "0978efbb",
   "metadata": {},
   "outputs": [],
   "source": [
    "def Model_fit(Md):\n",
    "    Md_fit = Md.fit(traind_data, train_label)\n",
    "    return Md_fit.predict(Full_pipleine_obj.transform(some_test_df))\n",
    "    "
   ]
  },
  {
   "cell_type": "code",
   "execution_count": 53,
   "id": "b31c7b26",
   "metadata": {},
   "outputs": [],
   "source": [
    "def Evaluation_model(Model):\n",
    "    Md_fit = Model.fit(traind_data, train_label)\n",
    "    score_value = np.sqrt(mean_squared_error(Md_fit.predict(traind_data), train_label))\n",
    "    print(f\" The mean_score_error of {Model} is : {score_value:.3f}\")\n",
    "  "
   ]
  },
  {
   "cell_type": "code",
   "execution_count": 54,
   "id": "0ccdf605",
   "metadata": {},
   "outputs": [
    {
     "name": "stdout",
     "output_type": "stream",
     "text": [
      " The mean_score_error of LinearRegression() is : 32807.695\n",
      " The mean_score_error of DecisionTreeRegressor(random_state=42) is : 0.000\n"
     ]
    },
    {
     "data": {
      "text/plain": [
       "(None, None)"
      ]
     },
     "execution_count": 54,
     "metadata": {},
     "output_type": "execute_result"
    }
   ],
   "source": [
    "Evaluation_model(Lr), Evaluation_model(D_r)# Linear regession model is far off by 32k , while Decision_tress\n",
    "# contains no erro, How possible could that be , it shows our Decisiontree model is overfitting\n",
    "\n",
    "# Lets check one for model and see how it does well in prediction"
   ]
  },
  {
   "cell_type": "code",
   "execution_count": 55,
   "id": "728f12de",
   "metadata": {},
   "outputs": [],
   "source": [
    "#lets import a model \n",
    "from sklearn.ensemble import RandomForestRegressor\n"
   ]
  },
  {
   "cell_type": "code",
   "execution_count": 56,
   "id": "4fc4b180",
   "metadata": {},
   "outputs": [],
   "source": [
    "R_f  = RandomForestRegressor()"
   ]
  },
  {
   "cell_type": "code",
   "execution_count": 57,
   "id": "9bf59d6b",
   "metadata": {},
   "outputs": [
    {
     "data": {
      "text/plain": [
       "7032.268999999971"
      ]
     },
     "execution_count": 57,
     "metadata": {},
     "output_type": "execute_result"
    }
   ],
   "source": [
    "Model_fit(R_f).mean()-some_test_labels.mean()# RandomForestRegressor perfroms better here than our previous model\n",
    "# since the Decision tree overfits , lets try and see how models works on unseen data "
   ]
  },
  {
   "cell_type": "code",
   "execution_count": 58,
   "id": "c5b221fd",
   "metadata": {},
   "outputs": [
    {
     "name": "stdout",
     "output_type": "stream",
     "text": [
      " The mean_score_error of RandomForestRegressor() is : 9319.817\n"
     ]
    }
   ],
   "source": [
    "Evaluation_model(R_f)"
   ]
  },
  {
   "cell_type": "code",
   "execution_count": 59,
   "id": "13899ab5",
   "metadata": {},
   "outputs": [],
   "source": [
    "#### To see how our model works on  unseen data , we import cross_val_score"
   ]
  },
  {
   "cell_type": "code",
   "execution_count": 60,
   "id": "9208783f",
   "metadata": {},
   "outputs": [],
   "source": [
    "from sklearn.model_selection import cross_val_score"
   ]
  },
  {
   "cell_type": "code",
   "execution_count": 61,
   "id": "90e0e90e",
   "metadata": {},
   "outputs": [],
   "source": [
    "Scores = cross_val_score(R_f, traind_data, train_label, cv = 10,scoring= \"neg_mean_squared_error\")"
   ]
  },
  {
   "cell_type": "code",
   "execution_count": 62,
   "id": "0694ec7a",
   "metadata": {},
   "outputs": [],
   "source": [
    "np.sqrt(-Scores).mean()\n",
    "\n",
    "D_r_scores = cross_val_score(D_r, traind_data, train_label, cv = 10,scoring= \"neg_mean_squared_error\")"
   ]
  },
  {
   "cell_type": "code",
   "execution_count": 63,
   "id": "e972e8f6",
   "metadata": {},
   "outputs": [
    {
     "data": {
      "text/plain": [
       "(35238.22448775986, 24965.74420837253)"
      ]
     },
     "execution_count": 63,
     "metadata": {},
     "output_type": "execute_result"
    }
   ],
   "source": [
    "np.sqrt(-D_r_scores).mean(),np.sqrt(-Scores).mean()# the Random Forest does well"
   ]
  },
  {
   "cell_type": "markdown",
   "id": "2b53219b",
   "metadata": {},
   "source": [
    "##### Lets Fine tune our model now"
   ]
  },
  {
   "cell_type": "code",
   "execution_count": 64,
   "id": "89fb7f57",
   "metadata": {},
   "outputs": [],
   "source": [
    "from sklearn.model_selection import GridSearchCV"
   ]
  },
  {
   "cell_type": "code",
   "execution_count": 65,
   "id": "a18c1cf8",
   "metadata": {},
   "outputs": [],
   "source": [
    "Param_grid = {\"n_estimators\" : [10, 30, 34], \"max_features\" : [2,4] ,\n",
    "             \"bootstrap\" : [True] , \"n_estimators\" : [3,10,13,38], \"max_features\" : [2,6,8]}"
   ]
  },
  {
   "cell_type": "code",
   "execution_count": 66,
   "id": "65e7d65d",
   "metadata": {},
   "outputs": [],
   "source": [
    "Grid_obj = GridSearchCV(R_f, param_grid = Param_grid,scoring= \"neg_mean_squared_error\", cv = 5, return_train_score= True )"
   ]
  },
  {
   "cell_type": "code",
   "execution_count": 67,
   "id": "f1872d51",
   "metadata": {},
   "outputs": [],
   "source": [
    " Grid_results = Grid_obj.fit(traind_data, train_label)"
   ]
  },
  {
   "cell_type": "code",
   "execution_count": 68,
   "id": "be447324",
   "metadata": {},
   "outputs": [
    {
     "data": {
      "text/plain": [
       "GridSearchCV(cv=5, estimator=RandomForestRegressor(),\n",
       "             param_grid={'bootstrap': [True], 'max_features': [2, 6, 8],\n",
       "                         'n_estimators': [3, 10, 13, 38]},\n",
       "             return_train_score=True, scoring='neg_mean_squared_error')"
      ]
     },
     "execution_count": 68,
     "metadata": {},
     "output_type": "execute_result"
    }
   ],
   "source": [
    "Grid_results\n"
   ]
  },
  {
   "cell_type": "code",
   "execution_count": 69,
   "id": "32999a73",
   "metadata": {},
   "outputs": [
    {
     "name": "stdout",
     "output_type": "stream",
     "text": [
      "{'bootstrap': True, 'max_features': 2, 'n_estimators': 3} 38517.80864064796\n",
      "{'bootstrap': True, 'max_features': 2, 'n_estimators': 10} 31573.08378650137\n",
      "{'bootstrap': True, 'max_features': 2, 'n_estimators': 13} 30179.524526246092\n",
      "{'bootstrap': True, 'max_features': 2, 'n_estimators': 38} 28060.70878957248\n",
      "{'bootstrap': True, 'max_features': 6, 'n_estimators': 3} 29818.87261212377\n",
      "{'bootstrap': True, 'max_features': 6, 'n_estimators': 10} 26553.08082984342\n",
      "{'bootstrap': True, 'max_features': 6, 'n_estimators': 13} 26326.229452032276\n",
      "{'bootstrap': True, 'max_features': 6, 'n_estimators': 38} 25446.95255448527\n",
      "{'bootstrap': True, 'max_features': 8, 'n_estimators': 3} 29491.90768107417\n",
      "{'bootstrap': True, 'max_features': 8, 'n_estimators': 10} 26322.41120435271\n",
      "{'bootstrap': True, 'max_features': 8, 'n_estimators': 13} 26079.26907134239\n",
      "{'bootstrap': True, 'max_features': 8, 'n_estimators': 38} 25411.602087596384\n"
     ]
    }
   ],
   "source": [
    "for i , j in zip(Grid_results.cv_results_[\"params\"], Grid_results.cv_results_[\"mean_test_score\"]):\n",
    "    print(i,np.sqrt(-j))"
   ]
  },
  {
   "cell_type": "markdown",
   "id": "3fe3fdae",
   "metadata": {},
   "source": [
    "*  from here , it shows my model performs better at the combination of max_features of 6 , n_estimators of 38 and mean_test_score slighly over 25k"
   ]
  },
  {
   "cell_type": "code",
   "execution_count": 70,
   "id": "36707cfd",
   "metadata": {},
   "outputs": [],
   "source": [
    "best_model = Grid_results.best_estimator_# n_estimators of 38 , tyhe randomstate is evaluated at all this level"
   ]
  },
  {
   "cell_type": "code",
   "execution_count": 71,
   "id": "880266d3",
   "metadata": {},
   "outputs": [
    {
     "data": {
      "text/plain": [
       "207253.67225749695"
      ]
     },
     "execution_count": 71,
     "metadata": {},
     "output_type": "execute_result"
    }
   ],
   "source": [
    "best_model.predict(Full_pipleine_obj.transform(test_df)).mean()"
   ]
  },
  {
   "cell_type": "code",
   "execution_count": 72,
   "id": "63b8b7bb",
   "metadata": {},
   "outputs": [
    {
     "data": {
      "text/plain": [
       "206346.8703972868"
      ]
     },
     "execution_count": 72,
     "metadata": {},
     "output_type": "execute_result"
    }
   ],
   "source": [
    "test_label.mean()"
   ]
  },
  {
   "cell_type": "code",
   "execution_count": 73,
   "id": "069cd800",
   "metadata": {},
   "outputs": [
    {
     "name": "stdout",
     "output_type": "stream",
     "text": [
      " The mean_score_error of RandomForestRegressor(max_features=8, n_estimators=38) is : 9647.957\n"
     ]
    }
   ],
   "source": [
    "Evaluation_model(best_model)"
   ]
  },
  {
   "cell_type": "code",
   "execution_count": 74,
   "id": "07fcf6af",
   "metadata": {},
   "outputs": [],
   "source": [
    "# Now lets look another hyperparameter tuner\n",
    "# Here we use RandomisedSearchCv\n",
    "from sklearn.model_selection import RandomizedSearchCV"
   ]
  },
  {
   "cell_type": "code",
   "execution_count": 75,
   "id": "72eedab2",
   "metadata": {},
   "outputs": [],
   "source": [
    "Randomized_search  = RandomizedSearchCV(R_f,Param_grid, cv = 5 , scoring= \"neg_mean_squared_error\", return_train_score= False)"
   ]
  },
  {
   "cell_type": "code",
   "execution_count": 76,
   "id": "1dfa3e5d",
   "metadata": {},
   "outputs": [],
   "source": [
    "Random_results = Randomized_search.fit(traind_data, traind_data)"
   ]
  },
  {
   "cell_type": "code",
   "execution_count": 77,
   "id": "11223066",
   "metadata": {},
   "outputs": [],
   "source": [
    "Grid_best_features = Grid_results.best_estimator_.feature_importances_"
   ]
  },
  {
   "cell_type": "code",
   "execution_count": 78,
   "id": "38134510",
   "metadata": {},
   "outputs": [
    {
     "data": {
      "text/plain": [
       "['<1H OCEAN', 'INLAND', 'ISLAND', 'NEAR BAY', 'NEAR OCEAN']"
      ]
     },
     "execution_count": 78,
     "metadata": {},
     "output_type": "execute_result"
    }
   ],
   "source": [
    "cate_vals = list(Full_pipleine_obj.named_transformers_[\"cate_col\"].categories_[0])\n",
    "cate_vals"
   ]
  },
  {
   "cell_type": "code",
   "execution_count": 79,
   "id": "0efe4bd3",
   "metadata": {},
   "outputs": [
    {
     "data": {
      "text/plain": [
       "['longitude',\n",
       " 'latitude',\n",
       " 'housing_median_age',\n",
       " 'total_rooms',\n",
       " 'total_bedrooms',\n",
       " 'population',\n",
       " 'households',\n",
       " 'median_income',\n",
       " 'concat_median']"
      ]
     },
     "execution_count": 79,
     "metadata": {},
     "output_type": "execute_result"
    }
   ],
   "source": [
    "Numerical_cols"
   ]
  },
  {
   "cell_type": "code",
   "execution_count": 80,
   "id": "649d9d27",
   "metadata": {},
   "outputs": [],
   "source": [
    "Attributes_ = Numerical_cols + cate_vals"
   ]
  },
  {
   "cell_type": "code",
   "execution_count": 81,
   "id": "6cb98f9e",
   "metadata": {},
   "outputs": [
    {
     "data": {
      "text/plain": [
       "[(0.7277991931197875, 'concat_median'),\n",
       " (0.1262470863558129, 'median_income'),\n",
       " (0.07039406857701257, 'INLAND'),\n",
       " (0.016942432657369513, 'latitude'),\n",
       " (0.01622999717351469, 'longitude'),\n",
       " (0.008403746318345225, 'population'),\n",
       " (0.007958319060224256, 'housing_median_age'),\n",
       " (0.006982352415647086, 'total_rooms'),\n",
       " (0.006161969216706942, '<1H OCEAN'),\n",
       " (0.005940580784868506, 'households'),\n",
       " (0.005897380198029283, 'total_bedrooms'),\n",
       " (0.0007327938649652973, 'NEAR OCEAN'),\n",
       " (0.0003050246529691003, 'NEAR BAY'),\n",
       " (5.055604747100541e-06, 'ISLAND')]"
      ]
     },
     "execution_count": 81,
     "metadata": {},
     "output_type": "execute_result"
    }
   ],
   "source": [
    "sorted(zip(Grid_best_features, Attributes_), reverse = True)"
   ]
  },
  {
   "cell_type": "code",
   "execution_count": 82,
   "id": "7adb6b07",
   "metadata": {},
   "outputs": [
    {
     "data": {
      "text/plain": [
       "19548     74900.0\n",
       "20391    264600.0\n",
       "18052    500001.0\n",
       "1895     107200.0\n",
       "9633     123400.0\n",
       "           ...   \n",
       "18453    217100.0\n",
       "266      143900.0\n",
       "5729     366700.0\n",
       "9865     142100.0\n",
       "10252    184600.0\n",
       "Name: median_house_value, Length: 4128, dtype: float64"
      ]
     },
     "execution_count": 82,
     "metadata": {},
     "output_type": "execute_result"
    }
   ],
   "source": [
    "test_label"
   ]
  },
  {
   "cell_type": "code",
   "execution_count": 83,
   "id": "d34828da",
   "metadata": {},
   "outputs": [
    {
     "data": {
      "text/plain": [
       "RandomForestRegressor(max_features=8, n_estimators=38)"
      ]
     },
     "execution_count": 83,
     "metadata": {},
     "output_type": "execute_result"
    }
   ],
   "source": [
    "final_model = Grid_results.best_estimator_\n",
    "final_model"
   ]
  },
  {
   "cell_type": "code",
   "execution_count": 84,
   "id": "5602fa01",
   "metadata": {},
   "outputs": [],
   "source": [
    "Final_predict = final_model.predict(Full_pipleine_obj.transform(test_df))"
   ]
  },
  {
   "cell_type": "code",
   "execution_count": 85,
   "id": "e9f6fb26",
   "metadata": {},
   "outputs": [
    {
     "data": {
      "text/plain": [
       "array([ 70305.26315789, 282805.26315789, 485308.68421053,  98105.26315789,\n",
       "        97234.21052632])"
      ]
     },
     "execution_count": 85,
     "metadata": {},
     "output_type": "execute_result"
    }
   ],
   "source": [
    "Final_predict[:5]"
   ]
  },
  {
   "cell_type": "code",
   "execution_count": 86,
   "id": "825e31c7",
   "metadata": {},
   "outputs": [
    {
     "data": {
      "text/plain": [
       "19548     74900.0\n",
       "20391    264600.0\n",
       "18052    500001.0\n",
       "1895     107200.0\n",
       "9633     123400.0\n",
       "Name: median_house_value, dtype: float64"
      ]
     },
     "execution_count": 86,
     "metadata": {},
     "output_type": "execute_result"
    }
   ],
   "source": [
    "test_label[:5]"
   ]
  },
  {
   "cell_type": "code",
   "execution_count": 87,
   "id": "c95dcff9",
   "metadata": {},
   "outputs": [
    {
     "data": {
      "text/plain": [
       "24982.202867555035"
      ]
     },
     "execution_count": 87,
     "metadata": {},
     "output_type": "execute_result"
    }
   ],
   "source": [
    "np.sqrt(mean_squared_error(Final_predict, test_label))"
   ]
  },
  {
   "cell_type": "code",
   "execution_count": 88,
   "id": "62acf6b7",
   "metadata": {},
   "outputs": [
    {
     "data": {
      "text/plain": [
       "624110460.1156751"
      ]
     },
     "execution_count": 88,
     "metadata": {},
     "output_type": "execute_result"
    }
   ],
   "source": [
    "rmse = mean_squared_error(test_label, Final_predict)\n",
    "rmse"
   ]
  },
  {
   "cell_type": "code",
   "execution_count": 89,
   "id": "0c0fbf22",
   "metadata": {},
   "outputs": [
    {
     "data": {
      "text/plain": [
       "19548    2.111161e+07\n",
       "20391    3.314316e+08\n",
       "18052    2.158641e+08\n",
       "1895     8.271424e+07\n",
       "9633     6.846485e+08\n",
       "             ...     \n",
       "18453    2.016400e+08\n",
       "266      1.472742e+09\n",
       "5729     4.536377e+09\n",
       "9865     1.150459e+09\n",
       "10252    1.057961e+07\n",
       "Name: median_house_value, Length: 4128, dtype: float64"
      ]
     },
     "execution_count": 89,
     "metadata": {},
     "output_type": "execute_result"
    }
   ],
   "source": [
    "(Final_predict -test_label)**2 "
   ]
  },
  {
   "cell_type": "code",
   "execution_count": 90,
   "id": "04887a1e",
   "metadata": {},
   "outputs": [
    {
     "data": {
      "text/plain": [
       "array([24344.12426781, 25604.38505149])"
      ]
     },
     "execution_count": 90,
     "metadata": {},
     "output_type": "execute_result"
    }
   ],
   "source": [
    "from scipy import stats\n",
    "confidence = 0.95\n",
    "squared_errors = (Final_predict -test_label)**2\n",
    "np.sqrt(stats.t.interval(confidence, len(squared_errors) - 1,loc=squared_errors.mean(),\n",
    "                         scale=stats.sem(squared_errors)))\n",
    "\n",
    "# here , computing the confidenec intervals gives us the probability or point estimate  which is the mean error will value \n",
    "# between 24k to slightly 25k"
   ]
  },
  {
   "cell_type": "code",
   "execution_count": 91,
   "id": "14ae4ad3",
   "metadata": {},
   "outputs": [],
   "source": [
    "# how do we create a pipeline that help us select the important features "
   ]
  },
  {
   "cell_type": "code",
   "execution_count": 92,
   "id": "e7cbf672",
   "metadata": {},
   "outputs": [],
   "source": [
    "from sklearn.svm import SVR"
   ]
  },
  {
   "cell_type": "code",
   "execution_count": 93,
   "id": "f9aec0c4",
   "metadata": {},
   "outputs": [],
   "source": [
    "svm = SVR(kernel = \"poly\", C = 1.0 , gamma=\"scale\")\n",
    "svm_ = SVR()"
   ]
  },
  {
   "cell_type": "code",
   "execution_count": 94,
   "id": "0e85a2ca",
   "metadata": {},
   "outputs": [
    {
     "data": {
      "text/plain": [
       "array([179164.64112143, 180324.61340137, 197599.3698993 , 178990.80396981,\n",
       "       179483.91421079, 184965.34512922, 181286.94708971, 178836.39952428,\n",
       "       181210.69140612, 179862.408542  ])"
      ]
     },
     "execution_count": 94,
     "metadata": {},
     "output_type": "execute_result"
    }
   ],
   "source": [
    "Model_fit(svm)"
   ]
  },
  {
   "cell_type": "code",
   "execution_count": 95,
   "id": "2165915e",
   "metadata": {},
   "outputs": [
    {
     "name": "stdout",
     "output_type": "stream",
     "text": [
      " The mean_score_error of SVR(kernel='poly') is : 117046.130\n"
     ]
    }
   ],
   "source": [
    "Evaluation_model(svm)# the SVM is not doing well in training, this shows that the the data points are widely dispersed around the center "
   ]
  },
  {
   "cell_type": "code",
   "execution_count": 96,
   "id": "b25a7670",
   "metadata": {},
   "outputs": [],
   "source": [
    "#Remember we have a lot of parameters, Gridsearch is used to search the best parameter combination inorder to help improve you model\n",
    "\n",
    "# The essence is to help fine tune your model"
   ]
  },
  {
   "cell_type": "code",
   "execution_count": 97,
   "id": "2daadf3b",
   "metadata": {},
   "outputs": [],
   "source": [
    "from sklearn.model_selection import RandomizedSearchCV"
   ]
  },
  {
   "cell_type": "code",
   "execution_count": 98,
   "id": "ceeb0b8b",
   "metadata": {},
   "outputs": [
    {
     "data": {
      "text/plain": [
       "{'n_estimators': [3, 10, 13, 38],\n",
       " 'max_features': [2, 6, 8],\n",
       " 'bootstrap': [True]}"
      ]
     },
     "execution_count": 98,
     "metadata": {},
     "output_type": "execute_result"
    }
   ],
   "source": [
    "Param_grid"
   ]
  },
  {
   "cell_type": "code",
   "execution_count": 99,
   "id": "c52b7c46",
   "metadata": {},
   "outputs": [],
   "source": [
    "#R_cv_model = R_cv.fit(traind_data,train_label)"
   ]
  },
  {
   "cell_type": "markdown",
   "id": "3d8b2110",
   "metadata": {},
   "source": [
    "####  Creating a pipeline that will contain the Data processing and the model"
   ]
  },
  {
   "cell_type": "code",
   "execution_count": 100,
   "id": "79698ac3",
   "metadata": {},
   "outputs": [],
   "source": [
    "pipeline_model = Pipeline([(\"Data_processing\", Full_pipleine_obj),(\"Linear_regression_model\",LinearRegression())])"
   ]
  },
  {
   "cell_type": "code",
   "execution_count": 101,
   "id": "f37150d2",
   "metadata": {},
   "outputs": [],
   "source": [
    "df_label = df[\"median_house_value\"].copy()\n",
    "df.drop(\"median_house_value\",axis =1 , inplace= True)"
   ]
  },
  {
   "cell_type": "code",
   "execution_count": 102,
   "id": "6f9535eb",
   "metadata": {},
   "outputs": [
    {
     "data": {
      "text/plain": [
       "(20640, 10)"
      ]
     },
     "execution_count": 102,
     "metadata": {},
     "output_type": "execute_result"
    }
   ],
   "source": [
    "df.shape"
   ]
  },
  {
   "cell_type": "code",
   "execution_count": 103,
   "id": "3e4e5b17",
   "metadata": {},
   "outputs": [
    {
     "data": {
      "text/plain": [
       "Pipeline(steps=[('Data_processing',\n",
       "                 ColumnTransformer(transformers=[('numerical_trans',\n",
       "                                                  Pipeline(steps=[('simpleImp',\n",
       "                                                                   SimpleImputer(strategy='median')),\n",
       "                                                                  ('col_trans',\n",
       "                                                                   ColumnerTransformer(data=       longitude  latitude  housing_median_age  total_rooms  total_bedrooms  \\\n",
       "0        -122.23     37.88                41.0        880.0           129.0   \n",
       "1        -122.22     37.86                21.0       7099.0          1106.0   \n",
       "2        -122.24     37.85                52.0       1467.0           190.0   \n",
       "3        -122.25     37.85                52.0       1...\n",
       "20638       741.0       349.0         1.8672          INLAND             0  \n",
       "20639      1387.0       530.0         2.3886          INLAND             0  \n",
       "\n",
       "[20640 rows x 10 columns])),\n",
       "                                                                  ('Standardizer',\n",
       "                                                                   StandardScaler())]),\n",
       "                                                  ['longitude', 'latitude',\n",
       "                                                   'housing_median_age',\n",
       "                                                   'total_rooms',\n",
       "                                                   'total_bedrooms',\n",
       "                                                   'population', 'households',\n",
       "                                                   'median_income',\n",
       "                                                   'concat_median']),\n",
       "                                                 ('cate_col', OneHotEncoder(),\n",
       "                                                  ['ocean_proximity'])])),\n",
       "                ('Linear_regression_model', LinearRegression())])"
      ]
     },
     "execution_count": 103,
     "metadata": {},
     "output_type": "execute_result"
    }
   ],
   "source": [
    "pipeline_model.fit(df,df_label)"
   ]
  },
  {
   "cell_type": "code",
   "execution_count": 104,
   "id": "b3bebae7",
   "metadata": {},
   "outputs": [
    {
     "data": {
      "text/html": [
       "<div>\n",
       "<style scoped>\n",
       "    .dataframe tbody tr th:only-of-type {\n",
       "        vertical-align: middle;\n",
       "    }\n",
       "\n",
       "    .dataframe tbody tr th {\n",
       "        vertical-align: top;\n",
       "    }\n",
       "\n",
       "    .dataframe thead th {\n",
       "        text-align: right;\n",
       "    }\n",
       "</style>\n",
       "<table border=\"1\" class=\"dataframe\">\n",
       "  <thead>\n",
       "    <tr style=\"text-align: right;\">\n",
       "      <th></th>\n",
       "      <th>longitude</th>\n",
       "      <th>latitude</th>\n",
       "      <th>housing_median_age</th>\n",
       "      <th>total_rooms</th>\n",
       "      <th>total_bedrooms</th>\n",
       "      <th>population</th>\n",
       "      <th>households</th>\n",
       "      <th>median_income</th>\n",
       "      <th>concat_median</th>\n",
       "    </tr>\n",
       "  </thead>\n",
       "  <tbody>\n",
       "    <tr>\n",
       "      <th>2854</th>\n",
       "      <td>-118.95</td>\n",
       "      <td>35.38</td>\n",
       "      <td>30.0</td>\n",
       "      <td>2594.0</td>\n",
       "      <td>478.0</td>\n",
       "      <td>1419.0</td>\n",
       "      <td>480.0</td>\n",
       "      <td>3.7250</td>\n",
       "      <td>0</td>\n",
       "    </tr>\n",
       "    <tr>\n",
       "      <th>8850</th>\n",
       "      <td>-118.41</td>\n",
       "      <td>34.09</td>\n",
       "      <td>37.0</td>\n",
       "      <td>2716.0</td>\n",
       "      <td>302.0</td>\n",
       "      <td>809.0</td>\n",
       "      <td>291.0</td>\n",
       "      <td>15.0001</td>\n",
       "      <td>3</td>\n",
       "    </tr>\n",
       "    <tr>\n",
       "      <th>15537</th>\n",
       "      <td>-117.11</td>\n",
       "      <td>33.12</td>\n",
       "      <td>46.0</td>\n",
       "      <td>52.0</td>\n",
       "      <td>13.0</td>\n",
       "      <td>59.0</td>\n",
       "      <td>13.0</td>\n",
       "      <td>3.8750</td>\n",
       "      <td>1</td>\n",
       "    </tr>\n",
       "    <tr>\n",
       "      <th>2656</th>\n",
       "      <td>-124.25</td>\n",
       "      <td>40.28</td>\n",
       "      <td>32.0</td>\n",
       "      <td>1430.0</td>\n",
       "      <td>419.0</td>\n",
       "      <td>434.0</td>\n",
       "      <td>187.0</td>\n",
       "      <td>1.9417</td>\n",
       "      <td>0</td>\n",
       "    </tr>\n",
       "    <tr>\n",
       "      <th>13209</th>\n",
       "      <td>-117.72</td>\n",
       "      <td>34.05</td>\n",
       "      <td>8.0</td>\n",
       "      <td>1841.0</td>\n",
       "      <td>409.0</td>\n",
       "      <td>1243.0</td>\n",
       "      <td>394.0</td>\n",
       "      <td>4.0614</td>\n",
       "      <td>0</td>\n",
       "    </tr>\n",
       "    <tr>\n",
       "      <th>...</th>\n",
       "      <td>...</td>\n",
       "      <td>...</td>\n",
       "      <td>...</td>\n",
       "      <td>...</td>\n",
       "      <td>...</td>\n",
       "      <td>...</td>\n",
       "      <td>...</td>\n",
       "      <td>...</td>\n",
       "      <td>...</td>\n",
       "    </tr>\n",
       "    <tr>\n",
       "      <th>2994</th>\n",
       "      <td>-119.04</td>\n",
       "      <td>35.32</td>\n",
       "      <td>20.0</td>\n",
       "      <td>37.0</td>\n",
       "      <td>11.0</td>\n",
       "      <td>34.0</td>\n",
       "      <td>8.0</td>\n",
       "      <td>1.2000</td>\n",
       "      <td>0</td>\n",
       "    </tr>\n",
       "    <tr>\n",
       "      <th>16516</th>\n",
       "      <td>-121.21</td>\n",
       "      <td>37.81</td>\n",
       "      <td>18.0</td>\n",
       "      <td>2404.0</td>\n",
       "      <td>498.0</td>\n",
       "      <td>1531.0</td>\n",
       "      <td>506.0</td>\n",
       "      <td>2.9950</td>\n",
       "      <td>0</td>\n",
       "    </tr>\n",
       "    <tr>\n",
       "      <th>16078</th>\n",
       "      <td>-122.49</td>\n",
       "      <td>37.73</td>\n",
       "      <td>48.0</td>\n",
       "      <td>1190.0</td>\n",
       "      <td>182.0</td>\n",
       "      <td>497.0</td>\n",
       "      <td>199.0</td>\n",
       "      <td>6.2642</td>\n",
       "      <td>3</td>\n",
       "    </tr>\n",
       "    <tr>\n",
       "      <th>6242</th>\n",
       "      <td>-117.98</td>\n",
       "      <td>34.06</td>\n",
       "      <td>36.0</td>\n",
       "      <td>2391.0</td>\n",
       "      <td>407.0</td>\n",
       "      <td>1967.0</td>\n",
       "      <td>398.0</td>\n",
       "      <td>4.0274</td>\n",
       "      <td>1</td>\n",
       "    </tr>\n",
       "    <tr>\n",
       "      <th>5763</th>\n",
       "      <td>-118.29</td>\n",
       "      <td>34.16</td>\n",
       "      <td>42.0</td>\n",
       "      <td>413.0</td>\n",
       "      <td>107.0</td>\n",
       "      <td>349.0</td>\n",
       "      <td>107.0</td>\n",
       "      <td>4.3438</td>\n",
       "      <td>1</td>\n",
       "    </tr>\n",
       "  </tbody>\n",
       "</table>\n",
       "<p>16512 rows × 9 columns</p>\n",
       "</div>"
      ],
      "text/plain": [
       "       longitude  latitude  housing_median_age  total_rooms  total_bedrooms  \\\n",
       "2854     -118.95     35.38                30.0       2594.0           478.0   \n",
       "8850     -118.41     34.09                37.0       2716.0           302.0   \n",
       "15537    -117.11     33.12                46.0         52.0            13.0   \n",
       "2656     -124.25     40.28                32.0       1430.0           419.0   \n",
       "13209    -117.72     34.05                 8.0       1841.0           409.0   \n",
       "...          ...       ...                 ...          ...             ...   \n",
       "2994     -119.04     35.32                20.0         37.0            11.0   \n",
       "16516    -121.21     37.81                18.0       2404.0           498.0   \n",
       "16078    -122.49     37.73                48.0       1190.0           182.0   \n",
       "6242     -117.98     34.06                36.0       2391.0           407.0   \n",
       "5763     -118.29     34.16                42.0        413.0           107.0   \n",
       "\n",
       "       population  households  median_income concat_median  \n",
       "2854       1419.0       480.0         3.7250             0  \n",
       "8850        809.0       291.0        15.0001             3  \n",
       "15537        59.0        13.0         3.8750             1  \n",
       "2656        434.0       187.0         1.9417             0  \n",
       "13209      1243.0       394.0         4.0614             0  \n",
       "...           ...         ...            ...           ...  \n",
       "2994         34.0         8.0         1.2000             0  \n",
       "16516      1531.0       506.0         2.9950             0  \n",
       "16078       497.0       199.0         6.2642             3  \n",
       "6242       1967.0       398.0         4.0274             1  \n",
       "5763        349.0       107.0         4.3438             1  \n",
       "\n",
       "[16512 rows x 9 columns]"
      ]
     },
     "execution_count": 104,
     "metadata": {},
     "output_type": "execute_result"
    }
   ],
   "source": [
    "train_df_d"
   ]
  },
  {
   "cell_type": "code",
   "execution_count": 105,
   "id": "546cf0ad",
   "metadata": {},
   "outputs": [
    {
     "data": {
      "text/html": [
       "<div>\n",
       "<style scoped>\n",
       "    .dataframe tbody tr th:only-of-type {\n",
       "        vertical-align: middle;\n",
       "    }\n",
       "\n",
       "    .dataframe tbody tr th {\n",
       "        vertical-align: top;\n",
       "    }\n",
       "\n",
       "    .dataframe thead th {\n",
       "        text-align: right;\n",
       "    }\n",
       "</style>\n",
       "<table border=\"1\" class=\"dataframe\">\n",
       "  <thead>\n",
       "    <tr style=\"text-align: right;\">\n",
       "      <th></th>\n",
       "      <th>longitude</th>\n",
       "      <th>latitude</th>\n",
       "      <th>housing_median_age</th>\n",
       "      <th>total_rooms</th>\n",
       "      <th>total_bedrooms</th>\n",
       "      <th>population</th>\n",
       "      <th>households</th>\n",
       "      <th>median_income</th>\n",
       "      <th>ocean_proximity</th>\n",
       "      <th>concat_median</th>\n",
       "    </tr>\n",
       "  </thead>\n",
       "  <tbody>\n",
       "    <tr>\n",
       "      <th>2854</th>\n",
       "      <td>-118.95</td>\n",
       "      <td>35.38</td>\n",
       "      <td>30.0</td>\n",
       "      <td>2594.0</td>\n",
       "      <td>478.0</td>\n",
       "      <td>1419.0</td>\n",
       "      <td>480.0</td>\n",
       "      <td>3.7250</td>\n",
       "      <td>INLAND</td>\n",
       "      <td>0</td>\n",
       "    </tr>\n",
       "    <tr>\n",
       "      <th>8850</th>\n",
       "      <td>-118.41</td>\n",
       "      <td>34.09</td>\n",
       "      <td>37.0</td>\n",
       "      <td>2716.0</td>\n",
       "      <td>302.0</td>\n",
       "      <td>809.0</td>\n",
       "      <td>291.0</td>\n",
       "      <td>15.0001</td>\n",
       "      <td>&lt;1H OCEAN</td>\n",
       "      <td>3</td>\n",
       "    </tr>\n",
       "    <tr>\n",
       "      <th>15537</th>\n",
       "      <td>-117.11</td>\n",
       "      <td>33.12</td>\n",
       "      <td>46.0</td>\n",
       "      <td>52.0</td>\n",
       "      <td>13.0</td>\n",
       "      <td>59.0</td>\n",
       "      <td>13.0</td>\n",
       "      <td>3.8750</td>\n",
       "      <td>&lt;1H OCEAN</td>\n",
       "      <td>1</td>\n",
       "    </tr>\n",
       "    <tr>\n",
       "      <th>2656</th>\n",
       "      <td>-124.25</td>\n",
       "      <td>40.28</td>\n",
       "      <td>32.0</td>\n",
       "      <td>1430.0</td>\n",
       "      <td>419.0</td>\n",
       "      <td>434.0</td>\n",
       "      <td>187.0</td>\n",
       "      <td>1.9417</td>\n",
       "      <td>NEAR OCEAN</td>\n",
       "      <td>0</td>\n",
       "    </tr>\n",
       "    <tr>\n",
       "      <th>13209</th>\n",
       "      <td>-117.72</td>\n",
       "      <td>34.05</td>\n",
       "      <td>8.0</td>\n",
       "      <td>1841.0</td>\n",
       "      <td>409.0</td>\n",
       "      <td>1243.0</td>\n",
       "      <td>394.0</td>\n",
       "      <td>4.0614</td>\n",
       "      <td>INLAND</td>\n",
       "      <td>0</td>\n",
       "    </tr>\n",
       "    <tr>\n",
       "      <th>...</th>\n",
       "      <td>...</td>\n",
       "      <td>...</td>\n",
       "      <td>...</td>\n",
       "      <td>...</td>\n",
       "      <td>...</td>\n",
       "      <td>...</td>\n",
       "      <td>...</td>\n",
       "      <td>...</td>\n",
       "      <td>...</td>\n",
       "      <td>...</td>\n",
       "    </tr>\n",
       "    <tr>\n",
       "      <th>2994</th>\n",
       "      <td>-119.04</td>\n",
       "      <td>35.32</td>\n",
       "      <td>20.0</td>\n",
       "      <td>37.0</td>\n",
       "      <td>11.0</td>\n",
       "      <td>34.0</td>\n",
       "      <td>8.0</td>\n",
       "      <td>1.2000</td>\n",
       "      <td>INLAND</td>\n",
       "      <td>0</td>\n",
       "    </tr>\n",
       "    <tr>\n",
       "      <th>16516</th>\n",
       "      <td>-121.21</td>\n",
       "      <td>37.81</td>\n",
       "      <td>18.0</td>\n",
       "      <td>2404.0</td>\n",
       "      <td>498.0</td>\n",
       "      <td>1531.0</td>\n",
       "      <td>506.0</td>\n",
       "      <td>2.9950</td>\n",
       "      <td>INLAND</td>\n",
       "      <td>0</td>\n",
       "    </tr>\n",
       "    <tr>\n",
       "      <th>16078</th>\n",
       "      <td>-122.49</td>\n",
       "      <td>37.73</td>\n",
       "      <td>48.0</td>\n",
       "      <td>1190.0</td>\n",
       "      <td>182.0</td>\n",
       "      <td>497.0</td>\n",
       "      <td>199.0</td>\n",
       "      <td>6.2642</td>\n",
       "      <td>NEAR OCEAN</td>\n",
       "      <td>3</td>\n",
       "    </tr>\n",
       "    <tr>\n",
       "      <th>6242</th>\n",
       "      <td>-117.98</td>\n",
       "      <td>34.06</td>\n",
       "      <td>36.0</td>\n",
       "      <td>2391.0</td>\n",
       "      <td>407.0</td>\n",
       "      <td>1967.0</td>\n",
       "      <td>398.0</td>\n",
       "      <td>4.0274</td>\n",
       "      <td>&lt;1H OCEAN</td>\n",
       "      <td>1</td>\n",
       "    </tr>\n",
       "    <tr>\n",
       "      <th>5763</th>\n",
       "      <td>-118.29</td>\n",
       "      <td>34.16</td>\n",
       "      <td>42.0</td>\n",
       "      <td>413.0</td>\n",
       "      <td>107.0</td>\n",
       "      <td>349.0</td>\n",
       "      <td>107.0</td>\n",
       "      <td>4.3438</td>\n",
       "      <td>&lt;1H OCEAN</td>\n",
       "      <td>1</td>\n",
       "    </tr>\n",
       "  </tbody>\n",
       "</table>\n",
       "<p>16512 rows × 10 columns</p>\n",
       "</div>"
      ],
      "text/plain": [
       "       longitude  latitude  housing_median_age  total_rooms  total_bedrooms  \\\n",
       "2854     -118.95     35.38                30.0       2594.0           478.0   \n",
       "8850     -118.41     34.09                37.0       2716.0           302.0   \n",
       "15537    -117.11     33.12                46.0         52.0            13.0   \n",
       "2656     -124.25     40.28                32.0       1430.0           419.0   \n",
       "13209    -117.72     34.05                 8.0       1841.0           409.0   \n",
       "...          ...       ...                 ...          ...             ...   \n",
       "2994     -119.04     35.32                20.0         37.0            11.0   \n",
       "16516    -121.21     37.81                18.0       2404.0           498.0   \n",
       "16078    -122.49     37.73                48.0       1190.0           182.0   \n",
       "6242     -117.98     34.06                36.0       2391.0           407.0   \n",
       "5763     -118.29     34.16                42.0        413.0           107.0   \n",
       "\n",
       "       population  households  median_income ocean_proximity concat_median  \n",
       "2854       1419.0       480.0         3.7250          INLAND             0  \n",
       "8850        809.0       291.0        15.0001       <1H OCEAN             3  \n",
       "15537        59.0        13.0         3.8750       <1H OCEAN             1  \n",
       "2656        434.0       187.0         1.9417      NEAR OCEAN             0  \n",
       "13209      1243.0       394.0         4.0614          INLAND             0  \n",
       "...           ...         ...            ...             ...           ...  \n",
       "2994         34.0         8.0         1.2000          INLAND             0  \n",
       "16516      1531.0       506.0         2.9950          INLAND             0  \n",
       "16078       497.0       199.0         6.2642      NEAR OCEAN             3  \n",
       "6242       1967.0       398.0         4.0274       <1H OCEAN             1  \n",
       "5763        349.0       107.0         4.3438       <1H OCEAN             1  \n",
       "\n",
       "[16512 rows x 10 columns]"
      ]
     },
     "execution_count": 105,
     "metadata": {},
     "output_type": "execute_result"
    }
   ],
   "source": [
    "train_df"
   ]
  },
  {
   "cell_type": "code",
   "execution_count": 106,
   "id": "541cffe6",
   "metadata": {},
   "outputs": [
    {
     "data": {
      "text/html": [
       "<div>\n",
       "<style scoped>\n",
       "    .dataframe tbody tr th:only-of-type {\n",
       "        vertical-align: middle;\n",
       "    }\n",
       "\n",
       "    .dataframe tbody tr th {\n",
       "        vertical-align: top;\n",
       "    }\n",
       "\n",
       "    .dataframe thead th {\n",
       "        text-align: right;\n",
       "    }\n",
       "</style>\n",
       "<table border=\"1\" class=\"dataframe\">\n",
       "  <thead>\n",
       "    <tr style=\"text-align: right;\">\n",
       "      <th></th>\n",
       "      <th>longitude</th>\n",
       "      <th>latitude</th>\n",
       "      <th>housing_median_age</th>\n",
       "      <th>total_rooms</th>\n",
       "      <th>total_bedrooms</th>\n",
       "      <th>population</th>\n",
       "      <th>households</th>\n",
       "      <th>median_income</th>\n",
       "      <th>ocean_proximity</th>\n",
       "      <th>concat_median</th>\n",
       "    </tr>\n",
       "  </thead>\n",
       "  <tbody>\n",
       "    <tr>\n",
       "      <th>0</th>\n",
       "      <td>-122.23</td>\n",
       "      <td>37.88</td>\n",
       "      <td>41.0</td>\n",
       "      <td>880.0</td>\n",
       "      <td>129.0</td>\n",
       "      <td>322.0</td>\n",
       "      <td>126.0</td>\n",
       "      <td>8.3252</td>\n",
       "      <td>NEAR BAY</td>\n",
       "      <td>3</td>\n",
       "    </tr>\n",
       "    <tr>\n",
       "      <th>1</th>\n",
       "      <td>-122.22</td>\n",
       "      <td>37.86</td>\n",
       "      <td>21.0</td>\n",
       "      <td>7099.0</td>\n",
       "      <td>1106.0</td>\n",
       "      <td>2401.0</td>\n",
       "      <td>1138.0</td>\n",
       "      <td>8.3014</td>\n",
       "      <td>NEAR BAY</td>\n",
       "      <td>2</td>\n",
       "    </tr>\n",
       "    <tr>\n",
       "      <th>2</th>\n",
       "      <td>-122.24</td>\n",
       "      <td>37.85</td>\n",
       "      <td>52.0</td>\n",
       "      <td>1467.0</td>\n",
       "      <td>190.0</td>\n",
       "      <td>496.0</td>\n",
       "      <td>177.0</td>\n",
       "      <td>7.2574</td>\n",
       "      <td>NEAR BAY</td>\n",
       "      <td>2</td>\n",
       "    </tr>\n",
       "    <tr>\n",
       "      <th>3</th>\n",
       "      <td>-122.25</td>\n",
       "      <td>37.85</td>\n",
       "      <td>52.0</td>\n",
       "      <td>1274.0</td>\n",
       "      <td>235.0</td>\n",
       "      <td>558.0</td>\n",
       "      <td>219.0</td>\n",
       "      <td>5.6431</td>\n",
       "      <td>NEAR BAY</td>\n",
       "      <td>2</td>\n",
       "    </tr>\n",
       "    <tr>\n",
       "      <th>4</th>\n",
       "      <td>-122.25</td>\n",
       "      <td>37.85</td>\n",
       "      <td>52.0</td>\n",
       "      <td>1627.0</td>\n",
       "      <td>280.0</td>\n",
       "      <td>565.0</td>\n",
       "      <td>259.0</td>\n",
       "      <td>3.8462</td>\n",
       "      <td>NEAR BAY</td>\n",
       "      <td>2</td>\n",
       "    </tr>\n",
       "    <tr>\n",
       "      <th>...</th>\n",
       "      <td>...</td>\n",
       "      <td>...</td>\n",
       "      <td>...</td>\n",
       "      <td>...</td>\n",
       "      <td>...</td>\n",
       "      <td>...</td>\n",
       "      <td>...</td>\n",
       "      <td>...</td>\n",
       "      <td>...</td>\n",
       "      <td>...</td>\n",
       "    </tr>\n",
       "    <tr>\n",
       "      <th>20635</th>\n",
       "      <td>-121.09</td>\n",
       "      <td>39.48</td>\n",
       "      <td>25.0</td>\n",
       "      <td>1665.0</td>\n",
       "      <td>374.0</td>\n",
       "      <td>845.0</td>\n",
       "      <td>330.0</td>\n",
       "      <td>1.5603</td>\n",
       "      <td>INLAND</td>\n",
       "      <td>0</td>\n",
       "    </tr>\n",
       "    <tr>\n",
       "      <th>20636</th>\n",
       "      <td>-121.21</td>\n",
       "      <td>39.49</td>\n",
       "      <td>18.0</td>\n",
       "      <td>697.0</td>\n",
       "      <td>150.0</td>\n",
       "      <td>356.0</td>\n",
       "      <td>114.0</td>\n",
       "      <td>2.5568</td>\n",
       "      <td>INLAND</td>\n",
       "      <td>0</td>\n",
       "    </tr>\n",
       "    <tr>\n",
       "      <th>20637</th>\n",
       "      <td>-121.22</td>\n",
       "      <td>39.43</td>\n",
       "      <td>17.0</td>\n",
       "      <td>2254.0</td>\n",
       "      <td>485.0</td>\n",
       "      <td>1007.0</td>\n",
       "      <td>433.0</td>\n",
       "      <td>1.7000</td>\n",
       "      <td>INLAND</td>\n",
       "      <td>0</td>\n",
       "    </tr>\n",
       "    <tr>\n",
       "      <th>20638</th>\n",
       "      <td>-121.32</td>\n",
       "      <td>39.43</td>\n",
       "      <td>18.0</td>\n",
       "      <td>1860.0</td>\n",
       "      <td>409.0</td>\n",
       "      <td>741.0</td>\n",
       "      <td>349.0</td>\n",
       "      <td>1.8672</td>\n",
       "      <td>INLAND</td>\n",
       "      <td>0</td>\n",
       "    </tr>\n",
       "    <tr>\n",
       "      <th>20639</th>\n",
       "      <td>-121.24</td>\n",
       "      <td>39.37</td>\n",
       "      <td>16.0</td>\n",
       "      <td>2785.0</td>\n",
       "      <td>616.0</td>\n",
       "      <td>1387.0</td>\n",
       "      <td>530.0</td>\n",
       "      <td>2.3886</td>\n",
       "      <td>INLAND</td>\n",
       "      <td>0</td>\n",
       "    </tr>\n",
       "  </tbody>\n",
       "</table>\n",
       "<p>20640 rows × 10 columns</p>\n",
       "</div>"
      ],
      "text/plain": [
       "       longitude  latitude  housing_median_age  total_rooms  total_bedrooms  \\\n",
       "0        -122.23     37.88                41.0        880.0           129.0   \n",
       "1        -122.22     37.86                21.0       7099.0          1106.0   \n",
       "2        -122.24     37.85                52.0       1467.0           190.0   \n",
       "3        -122.25     37.85                52.0       1274.0           235.0   \n",
       "4        -122.25     37.85                52.0       1627.0           280.0   \n",
       "...          ...       ...                 ...          ...             ...   \n",
       "20635    -121.09     39.48                25.0       1665.0           374.0   \n",
       "20636    -121.21     39.49                18.0        697.0           150.0   \n",
       "20637    -121.22     39.43                17.0       2254.0           485.0   \n",
       "20638    -121.32     39.43                18.0       1860.0           409.0   \n",
       "20639    -121.24     39.37                16.0       2785.0           616.0   \n",
       "\n",
       "       population  households  median_income ocean_proximity concat_median  \n",
       "0           322.0       126.0         8.3252        NEAR BAY             3  \n",
       "1          2401.0      1138.0         8.3014        NEAR BAY             2  \n",
       "2           496.0       177.0         7.2574        NEAR BAY             2  \n",
       "3           558.0       219.0         5.6431        NEAR BAY             2  \n",
       "4           565.0       259.0         3.8462        NEAR BAY             2  \n",
       "...           ...         ...            ...             ...           ...  \n",
       "20635       845.0       330.0         1.5603          INLAND             0  \n",
       "20636       356.0       114.0         2.5568          INLAND             0  \n",
       "20637      1007.0       433.0         1.7000          INLAND             0  \n",
       "20638       741.0       349.0         1.8672          INLAND             0  \n",
       "20639      1387.0       530.0         2.3886          INLAND             0  \n",
       "\n",
       "[20640 rows x 10 columns]"
      ]
     },
     "execution_count": 106,
     "metadata": {},
     "output_type": "execute_result"
    }
   ],
   "source": [
    "df"
   ]
  },
  {
   "cell_type": "code",
   "execution_count": 107,
   "id": "db496626",
   "metadata": {},
   "outputs": [
    {
     "data": {
      "text/plain": [
       "array([ 79558.41251643, 319071.84646857, 509900.01386423,  68881.52735132,\n",
       "        90222.63009979, 461977.93778002, 335259.24613043,  83223.88843193,\n",
       "       318179.91516949, 213003.5286067 ])"
      ]
     },
     "execution_count": 107,
     "metadata": {},
     "output_type": "execute_result"
    }
   ],
   "source": [
    "pipeline_fit = pipeline_model.fit(train_df,train_label)\n",
    "pipeline_fit.predict(some_test_df)"
   ]
  },
  {
   "cell_type": "code",
   "execution_count": 108,
   "id": "37cab8c4",
   "metadata": {},
   "outputs": [
    {
     "data": {
      "text/plain": [
       "(16512, 10)"
      ]
     },
     "execution_count": 108,
     "metadata": {},
     "output_type": "execute_result"
    }
   ],
   "source": [
    "# train_label.shape\n",
    "train_df.shape"
   ]
  },
  {
   "cell_type": "code",
   "execution_count": 109,
   "id": "41f7a745",
   "metadata": {},
   "outputs": [
    {
     "data": {
      "text/plain": [
       "array([ 79558.41251643, 319071.84646857, 509900.01386423,  68881.52735132,\n",
       "        90222.63009979, 461977.93778002, 335259.24613043,  83223.88843193,\n",
       "       318179.91516949, 213003.5286067 ])"
      ]
     },
     "execution_count": 109,
     "metadata": {},
     "output_type": "execute_result"
    }
   ],
   "source": [
    "pipeline_fit = pipeline_model.fit(train_df,train_label )\n",
    "pipeline_fit.predict(some_test_df)"
   ]
  },
  {
   "cell_type": "markdown",
   "id": "082d7e62",
   "metadata": {},
   "source": [
    "***a function that select the best n features for the predicted vector***"
   ]
  },
  {
   "cell_type": "code",
   "execution_count": 131,
   "id": "4d921dd6",
   "metadata": {},
   "outputs": [],
   "source": [
    "def indices_of_top_k(arr, k):\n",
    "    return np.sort(np.argpartition(np.array(arr), -k)[-k:])#sorting the most correlated features\n"
   ]
  },
  {
   "cell_type": "code",
   "execution_count": 146,
   "id": "c105033d",
   "metadata": {},
   "outputs": [
    {
     "name": "stdout",
     "output_type": "stream",
     "text": [
      "[('longitude', 0.01622999717351469), ('latitude', 0.016942432657369513), ('median_income', 0.1262470863558129), ('concat_median', 0.7277991931197875), ('INLAND', 0.07039406857701257)]\n"
     ]
    }
   ],
   "source": [
    "Cat_features = []\n",
    "best_indices = indices_of_top_k(Grid_best_features,k)\n",
    "for i in best_indices:\n",
    "    Cat_features.append((Attributes_[i],Grid_best_features[i]))\n",
    "print(Cat_features)\n",
    "    "
   ]
  },
  {
   "cell_type": "code",
   "execution_count": null,
   "id": "31c5dd39",
   "metadata": {},
   "outputs": [],
   "source": []
  }
 ],
 "metadata": {
  "kernelspec": {
   "display_name": "Python 3 (ipykernel)",
   "language": "python",
   "name": "python3"
  },
  "language_info": {
   "codemirror_mode": {
    "name": "ipython",
    "version": 3
   },
   "file_extension": ".py",
   "mimetype": "text/x-python",
   "name": "python",
   "nbconvert_exporter": "python",
   "pygments_lexer": "ipython3",
   "version": "3.9.12"
  }
 },
 "nbformat": 4,
 "nbformat_minor": 5
}
